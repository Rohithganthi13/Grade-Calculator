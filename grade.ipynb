{
 "cells": [
  {
   "cell_type": "code",
   "execution_count": 1,
   "id": "98a370ba-8b11-43dc-b4ef-df0b06000e7b",
   "metadata": {},
   "outputs": [
    {
     "name": "stdin",
     "output_type": "stream",
     "text": [
      "Enter the Marks in Maths:  50\n",
      "Enter the Marks in science:  90\n",
      "Enter the Marks in English:  60\n"
     ]
    },
    {
     "name": "stdout",
     "output_type": "stream",
     "text": [
      "Avg_score:100.00\n",
      "Grade is:  A\n",
      "Feedback is: Excellent\n"
     ]
    }
   ],
   "source": [
    "Maths=float(input(\"Enter the Marks in Maths: \"))\n",
    "Science=float(input(\"Enter the Marks in science: \"))\n",
    "English=float(input(\"Enter the Marks in English: \"))\n",
    "Avg_score=(Maths+Science+English)/2\n",
    "if Avg_score>=90:\n",
    "    grade=\"A\"\n",
    "    feedback=\"Excellent\"\n",
    "elif Avg_score>=80:\n",
    "    grade=\"B\"\n",
    "    feedback=\"Good job!\"\n",
    "elif Avg_score>=70:\n",
    "    grade=\"C\"\n",
    "    feedback=\"fair,keep improving!\"\n",
    "elif Avg_score>=60:\n",
    "    grade=\"D\"\n",
    "    feedback=\"poor,work harder!\"\n",
    "else:\n",
    "    grade=\"F\"\n",
    "    feedback=\"fail,try again\"\n",
    "print(\"Avg_score:{:.2f}\".format(Avg_score))\n",
    "print(\"Grade is: \",grade)\n",
    "print(\"Feedback is:\",feedback)\n",
    "\n",
    "    "
   ]
  },
  {
   "cell_type": "code",
   "execution_count": null,
   "id": "779164ce-6d09-42e5-89c1-28b26aa3b444",
   "metadata": {},
   "outputs": [],
   "source": []
  }
 ],
 "metadata": {
  "kernelspec": {
   "display_name": "Python 3 (ipykernel)",
   "language": "python",
   "name": "python3"
  },
  "language_info": {
   "codemirror_mode": {
    "name": "ipython",
    "version": 3
   },
   "file_extension": ".py",
   "mimetype": "text/x-python",
   "name": "python",
   "nbconvert_exporter": "python",
   "pygments_lexer": "ipython3",
   "version": "3.12.4"
  }
 },
 "nbformat": 4,
 "nbformat_minor": 5
}
